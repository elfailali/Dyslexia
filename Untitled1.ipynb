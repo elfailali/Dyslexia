{
 "cells": [
  {
   "cell_type": "code",
   "execution_count": 2,
   "id": "f562b68b",
   "metadata": {},
   "outputs": [],
   "source": [
    "import tkinter as tk"
   ]
  },
  {
   "cell_type": "code",
   "execution_count": null,
   "id": "5918b4b7",
   "metadata": {},
   "outputs": [],
   "source": []
  },
  {
   "cell_type": "code",
   "execution_count": 10,
   "id": "6f072e27",
   "metadata": {},
   "outputs": [
    {
     "ename": "FileNotFoundError",
     "evalue": "[Errno 2] No such file or directory: 'images/icons/mic.jpg'",
     "output_type": "error",
     "traceback": [
      "\u001b[1;31m---------------------------------------------------------------------------\u001b[0m",
      "\u001b[1;31mFileNotFoundError\u001b[0m                         Traceback (most recent call last)",
      "\u001b[1;32m~\\AppData\\Local\\Temp\\ipykernel_11732\\1559510114.py\u001b[0m in \u001b[0;36m<module>\u001b[1;34m\u001b[0m\n\u001b[0;32m     31\u001b[0m \u001b[1;33m\u001b[0m\u001b[0m\n\u001b[0;32m     32\u001b[0m \u001b[1;31m# Add mic icon\u001b[0m\u001b[1;33m\u001b[0m\u001b[1;33m\u001b[0m\u001b[0m\n\u001b[1;32m---> 33\u001b[1;33m \u001b[0mmic_icon\u001b[0m \u001b[1;33m=\u001b[0m \u001b[0mImage\u001b[0m\u001b[1;33m.\u001b[0m\u001b[0mopen\u001b[0m\u001b[1;33m(\u001b[0m\u001b[1;34m\"images/icons/mic.jpg\"\u001b[0m\u001b[1;33m)\u001b[0m\u001b[1;33m\u001b[0m\u001b[1;33m\u001b[0m\u001b[0m\n\u001b[0m\u001b[0;32m     34\u001b[0m \u001b[0mmic_icon\u001b[0m \u001b[1;33m=\u001b[0m \u001b[0mmic_icon\u001b[0m\u001b[1;33m.\u001b[0m\u001b[0mresize\u001b[0m\u001b[1;33m(\u001b[0m\u001b[1;33m(\u001b[0m\u001b[1;36m24\u001b[0m\u001b[1;33m,\u001b[0m \u001b[1;36m24\u001b[0m\u001b[1;33m)\u001b[0m\u001b[1;33m)\u001b[0m  \u001b[1;31m# Adjust the size if needed\u001b[0m\u001b[1;33m\u001b[0m\u001b[1;33m\u001b[0m\u001b[0m\n\u001b[0;32m     35\u001b[0m \u001b[0mmic_icon\u001b[0m \u001b[1;33m=\u001b[0m \u001b[0mImageTk\u001b[0m\u001b[1;33m.\u001b[0m\u001b[0mPhotoImage\u001b[0m\u001b[1;33m(\u001b[0m\u001b[0mmic_icon\u001b[0m\u001b[1;33m)\u001b[0m\u001b[1;33m\u001b[0m\u001b[1;33m\u001b[0m\u001b[0m\n",
      "\u001b[1;32m~\\anaconda3\\lib\\site-packages\\PIL\\Image.py\u001b[0m in \u001b[0;36mopen\u001b[1;34m(fp, mode, formats)\u001b[0m\n\u001b[0;32m   3129\u001b[0m \u001b[1;33m\u001b[0m\u001b[0m\n\u001b[0;32m   3130\u001b[0m     \u001b[1;32mif\u001b[0m \u001b[0mfilename\u001b[0m\u001b[1;33m:\u001b[0m\u001b[1;33m\u001b[0m\u001b[1;33m\u001b[0m\u001b[0m\n\u001b[1;32m-> 3131\u001b[1;33m         \u001b[0mfp\u001b[0m \u001b[1;33m=\u001b[0m \u001b[0mbuiltins\u001b[0m\u001b[1;33m.\u001b[0m\u001b[0mopen\u001b[0m\u001b[1;33m(\u001b[0m\u001b[0mfilename\u001b[0m\u001b[1;33m,\u001b[0m \u001b[1;34m\"rb\"\u001b[0m\u001b[1;33m)\u001b[0m\u001b[1;33m\u001b[0m\u001b[1;33m\u001b[0m\u001b[0m\n\u001b[0m\u001b[0;32m   3132\u001b[0m         \u001b[0mexclusive_fp\u001b[0m \u001b[1;33m=\u001b[0m \u001b[1;32mTrue\u001b[0m\u001b[1;33m\u001b[0m\u001b[1;33m\u001b[0m\u001b[0m\n\u001b[0;32m   3133\u001b[0m \u001b[1;33m\u001b[0m\u001b[0m\n",
      "\u001b[1;31mFileNotFoundError\u001b[0m: [Errno 2] No such file or directory: 'images/icons/mic.jpg'"
     ]
    }
   ],
   "source": [
    "import tkinter as tk\n",
    "from PIL import Image, ImageTk\n",
    "import speech_recognition as sr\n",
    "from textblob import Word\n",
    "\n",
    "# Initialize the speech recognizer\n",
    "recognizer = sr.Recognizer()\n",
    "\n",
    "# Function to recognize speech\n",
    "def recognize_speech():\n",
    "    with sr.Microphone() as source:\n",
    "        try:\n",
    "            audio = recognizer.listen(source, timeout=5)\n",
    "            student_word = recognizer.recognize_google(audio, language=\"fr-FR\")\n",
    "            text_entry.delete(1.0, tk.END)  # Clear any previous text\n",
    "            text_entry.insert(tk.END, f\"You said: {student_word}\\n\")\n",
    "            \n",
    "            # Check the spelling\n",
    "            is_correct = check_spelling(student_word, word_to_spell)\n",
    "            if is_correct:\n",
    "                text_entry.insert(tk.END, \"Correct spelling!\")\n",
    "            else:\n",
    "                text_entry.insert(tk.END, \"Incorrect spelling.\")\n",
    "        except sr.WaitTimeoutError:\n",
    "            text_entry.delete(1.0, tk.END)\n",
    "            text_entry.insert(tk.END, \"No speech detected.\")\n",
    "        except sr.UnknownValueError:\n",
    "            text_entry.delete(1.0, tk.END)\n",
    "            text_entry.insert(tk.END, \"Unable to recognize speech.\")\n",
    "        except sr.RequestError:\n",
    "            text_entry.delete(1.0, tk.END)\n",
    "            text_entry.insert(tk.END, \"Could not request results. Check your network connection.\")\n",
    "\n",
    "# Function to check the spelling of the word\n",
    "def check_spelling(word):\n",
    "    w = Word(word)\n",
    "    return w.spellcheck()[0][1] == 1.0\n",
    "\n",
    "def check_spelling(student_word, correct_word):\n",
    "    w = Word(student_word)\n",
    "    return w.spellcheck()[0][1] == 1.0 and student_word.lower() == correct_word.lower()\n",
    "\n",
    "# Create the main window\n",
    "root = tk.Tk()\n",
    "root.title(\"Speech to Text and Spelling Checker\")\n",
    "\n",
    "# Load the microphone icon\n",
    "mic_icon = Image.open(\"images/icons/mic.jpg\")\n",
    "mic_icon = mic_icon.resize((24, 24))  # Adjust the size if needed\n",
    "mic_icon = ImageTk.PhotoImage(mic_icon)\n",
    "\n",
    "# Create a label to display the word to spell\n",
    "word_to_spell = \"bonjour\"\n",
    "word_label = tk.Label(root, text=f\"Please say the word: {word_to_spell}\", font=(\"Helvetica\", 12))\n",
    "word_label.pack()\n",
    "\n",
    "# Create a text box to display the recognized text and spelling result\n",
    "text_entry = tk.Text(root, height=5, width=40)\n",
    "text_entry.pack()\n",
    "\n",
    "# Create a button to trigger speech recognition with the mic icon\n",
    "recognize_button = tk.Button(root, text=\"Recognize Speech\", image=mic_icon, compound=tk.LEFT, command=recognize_speech)\n",
    "recognize_button.image = mic_icon  # Keep a reference to the image\n",
    "recognize_button.pack()\n",
    "\n",
    "# Run the GUI main loop\n",
    "root.mainloop()\n"
   ]
  },
  {
   "cell_type": "code",
   "execution_count": 37,
   "id": "9a2861bc",
   "metadata": {},
   "outputs": [],
   "source": []
  },
  {
   "cell_type": "code",
   "execution_count": 33,
   "id": "cde6a2ec",
   "metadata": {},
   "outputs": [],
   "source": []
  },
  {
   "cell_type": "code",
   "execution_count": 23,
   "id": "841a4162",
   "metadata": {},
   "outputs": [],
   "source": []
  },
  {
   "cell_type": "code",
   "execution_count": 16,
   "id": "15d4d32d",
   "metadata": {},
   "outputs": [],
   "source": []
  },
  {
   "cell_type": "code",
   "execution_count": 10,
   "id": "5adc85e5",
   "metadata": {},
   "outputs": [],
   "source": []
  }
 ],
 "metadata": {
  "kernelspec": {
   "display_name": "Python 3 (ipykernel)",
   "language": "python",
   "name": "python3"
  },
  "language_info": {
   "codemirror_mode": {
    "name": "ipython",
    "version": 3
   },
   "file_extension": ".py",
   "mimetype": "text/x-python",
   "name": "python",
   "nbconvert_exporter": "python",
   "pygments_lexer": "ipython3",
   "version": "3.9.13"
  }
 },
 "nbformat": 4,
 "nbformat_minor": 5
}
