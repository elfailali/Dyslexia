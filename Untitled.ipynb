{
 "cells": [
  {
   "cell_type": "markdown",
   "id": "7e69a116",
   "metadata": {},
   "source": [
    "# Speech recognition"
   ]
  },
  {
   "cell_type": "markdown",
   "id": "eacfcc92",
   "metadata": {},
   "source": [
    "### install libraries"
   ]
  },
  {
   "cell_type": "code",
   "execution_count": 11,
   "id": "89c0c1c2",
   "metadata": {},
   "outputs": [
    {
     "name": "stdout",
     "output_type": "stream",
     "text": [
      "Collecting SpeechRecognition\n",
      "  Downloading SpeechRecognition-3.10.0-py2.py3-none-any.whl (32.8 MB)\n",
      "     ---------------------------------------- 32.8/32.8 MB 1.4 MB/s eta 0:00:00\n",
      "Collecting pyaudio\n",
      "  Downloading PyAudio-0.2.13-cp39-cp39-win_amd64.whl (164 kB)\n",
      "     -------------------------------------- 164.1/164.1 kB 1.1 MB/s eta 0:00:00\n",
      "Collecting pyspellchecker\n",
      "  Downloading pyspellchecker-0.7.2-py3-none-any.whl (3.4 MB)\n",
      "     ---------------------------------------- 3.4/3.4 MB 1.6 MB/s eta 0:00:00\n",
      "Requirement already satisfied: requests>=2.26.0 in c:\\users\\honor\\anaconda3\\lib\\site-packages (from SpeechRecognition) (2.28.1)\n",
      "Requirement already satisfied: charset-normalizer<3,>=2 in c:\\users\\honor\\anaconda3\\lib\\site-packages (from requests>=2.26.0->SpeechRecognition) (2.0.4)\n",
      "Requirement already satisfied: idna<4,>=2.5 in c:\\users\\honor\\appdata\\roaming\\python\\python39\\site-packages (from requests>=2.26.0->SpeechRecognition) (2.10)\n",
      "Requirement already satisfied: urllib3<1.27,>=1.21.1 in c:\\users\\honor\\anaconda3\\lib\\site-packages (from requests>=2.26.0->SpeechRecognition) (1.26.11)\n",
      "Requirement already satisfied: certifi>=2017.4.17 in c:\\users\\honor\\appdata\\roaming\\python\\python39\\site-packages (from requests>=2.26.0->SpeechRecognition) (2022.12.7)\n",
      "Installing collected packages: pyaudio, pyspellchecker, SpeechRecognition\n",
      "Successfully installed SpeechRecognition-3.10.0 pyaudio-0.2.13 pyspellchecker-0.7.2\n"
     ]
    }
   ],
   "source": [
    "!pip install SpeechRecognition pyaudio pyspellchecker"
   ]
  },
  {
   "cell_type": "code",
   "execution_count": 29,
   "id": "59535926",
   "metadata": {},
   "outputs": [
    {
     "name": "stdout",
     "output_type": "stream",
     "text": [
      "Collecting textblob\n",
      "  Downloading textblob-0.17.1-py2.py3-none-any.whl (636 kB)\n",
      "     ------------------------------------ 636.8/636.8 kB 891.2 kB/s eta 0:00:00\n",
      "Requirement already satisfied: nltk>=3.1 in c:\\users\\honor\\anaconda3\\lib\\site-packages (from textblob) (3.7)\n",
      "Requirement already satisfied: click in c:\\users\\honor\\anaconda3\\lib\\site-packages (from nltk>=3.1->textblob) (8.0.4)\n",
      "Requirement already satisfied: joblib in c:\\users\\honor\\anaconda3\\lib\\site-packages (from nltk>=3.1->textblob) (1.1.0)\n",
      "Requirement already satisfied: regex>=2021.8.3 in c:\\users\\honor\\anaconda3\\lib\\site-packages (from nltk>=3.1->textblob) (2022.7.9)\n",
      "Requirement already satisfied: tqdm in c:\\users\\honor\\anaconda3\\lib\\site-packages (from nltk>=3.1->textblob) (4.64.1)\n",
      "Requirement already satisfied: colorama in c:\\users\\honor\\anaconda3\\lib\\site-packages (from click->nltk>=3.1->textblob) (0.4.5)\n",
      "Installing collected packages: textblob\n",
      "Successfully installed textblob-0.17.1\n"
     ]
    }
   ],
   "source": [
    "!pip install textblob"
   ]
  },
  {
   "cell_type": "code",
   "execution_count": 19,
   "id": "397f7b24",
   "metadata": {
    "scrolled": true
   },
   "outputs": [
    {
     "name": "stdout",
     "output_type": "stream",
     "text": [
      "Collecting gtts\n",
      "  Obtaining dependency information for gtts from https://files.pythonhosted.org/packages/a7/ef/190f64a4edeb13165e3c598a08f06a2ae80cdae0aa208c96c20efdb7ad4b/gTTS-2.4.0-py3-none-any.whl.metadata\n",
      "  Downloading gTTS-2.4.0-py3-none-any.whl.metadata (4.1 kB)\n",
      "Requirement already satisfied: requests<3,>=2.27 in c:\\users\\honor\\anaconda3\\lib\\site-packages (from gtts) (2.28.1)\n",
      "Requirement already satisfied: click<8.2,>=7.1 in c:\\users\\honor\\anaconda3\\lib\\site-packages (from gtts) (8.0.4)\n",
      "Requirement already satisfied: colorama in c:\\users\\honor\\anaconda3\\lib\\site-packages (from click<8.2,>=7.1->gtts) (0.4.5)\n",
      "Requirement already satisfied: charset-normalizer<3,>=2 in c:\\users\\honor\\anaconda3\\lib\\site-packages (from requests<3,>=2.27->gtts) (2.0.4)\n",
      "Requirement already satisfied: idna<4,>=2.5 in c:\\users\\honor\\appdata\\roaming\\python\\python39\\site-packages (from requests<3,>=2.27->gtts) (2.10)\n",
      "Requirement already satisfied: urllib3<1.27,>=1.21.1 in c:\\users\\honor\\anaconda3\\lib\\site-packages (from requests<3,>=2.27->gtts) (1.26.11)\n",
      "Requirement already satisfied: certifi>=2017.4.17 in c:\\users\\honor\\appdata\\roaming\\python\\python39\\site-packages (from requests<3,>=2.27->gtts) (2022.12.7)\n",
      "Downloading gTTS-2.4.0-py3-none-any.whl (29 kB)\n",
      "Installing collected packages: gtts\n",
      "Successfully installed gtts-2.4.0\n"
     ]
    }
   ],
   "source": [
    "!pip install gtts"
   ]
  },
  {
   "cell_type": "markdown",
   "id": "f1fda3be",
   "metadata": {},
   "source": [
    "### Test the word spelling"
   ]
  },
  {
   "cell_type": "code",
   "execution_count": 92,
   "id": "d07305ad",
   "metadata": {},
   "outputs": [
    {
     "name": "stdout",
     "output_type": "stream",
     "text": [
      "Please say the word: bonjour ...\n",
      "You said: bijoux\n",
      "Incorrect spelling.\n"
     ]
    }
   ],
   "source": [
    "import speech_recognition as sr\n",
    "from textblob import Word\n",
    "\n",
    "# Initialize the speech recognizer\n",
    "recognizer = sr.Recognizer()\n",
    "\n",
    "# Function to recognize speech\n",
    "def recognize_speech(word_to_spell):\n",
    "    with sr.Microphone() as source:\n",
    "        print(f\"Please say the word: {word_to_spell} ...\")\n",
    "        audio = recognizer.listen(source)\n",
    "\n",
    "    try:\n",
    "        # Use Google Web Speech API to recognize the speech\n",
    "        word = recognizer.recognize_google(audio, language=\"fr-FR\")\n",
    "        print(f\"You said: {word}\")\n",
    "        return word\n",
    "    except sr.UnknownValueError:\n",
    "        print(\"Sorry, I couldn't understand your speech.\")\n",
    "        return None\n",
    "    except sr.RequestError:\n",
    "        print(\"Could not request results. Check your network connection.\")\n",
    "        return None\n",
    "\n",
    "# Function to check the spelling of the word\n",
    "def check_spelling(word):\n",
    "    w = Word(word)\n",
    "    return w.spellcheck()[0][1] == 1.0\n",
    "\n",
    "def check_spelling(student_word, correct_word):\n",
    "    w = Word(student_word)\n",
    "    return w.spellcheck()[0][1] == 1.0 and student_word.lower() == correct_word.lower()\n",
    "\n",
    "# Main program\n",
    "if __name__ == \"__main__\":\n",
    "    word_to_spell = \"bonjour\"\n",
    "\n",
    "    # Recognize speech from the student\n",
    "    student_word = recognize_speech(word_to_spell)\n",
    "\n",
    "    if student_word:\n",
    "        # Check the spelling\n",
    "        is_correct = check_spelling(student_word, word_to_spell)\n",
    "        if is_correct:\n",
    "            print(\"Correct spelling!\")\n",
    "        else:\n",
    "            print(\"Incorrect spelling.\")\n",
    "    else:\n",
    "        print(\"Speech recognition failed.\")"
   ]
  },
  {
   "cell_type": "code",
   "execution_count": null,
   "id": "f945f2e8",
   "metadata": {},
   "outputs": [],
   "source": []
  },
  {
   "cell_type": "markdown",
   "id": "8dacb1aa",
   "metadata": {},
   "source": [
    "# TEXT RECOGNITION"
   ]
  },
  {
   "cell_type": "code",
   "execution_count": 42,
   "id": "58df97d5",
   "metadata": {},
   "outputs": [
    {
     "name": "stdout",
     "output_type": "stream",
     "text": [
      "Collecting pytesseract\n",
      "  Downloading pytesseract-0.3.10-py3-none-any.whl (14 kB)\n",
      "Requirement already satisfied: packaging>=21.3 in c:\\users\\honor\\anaconda3\\lib\\site-packages (from pytesseract) (23.1)\n",
      "Requirement already satisfied: Pillow>=8.0.0 in c:\\users\\honor\\anaconda3\\lib\\site-packages (from pytesseract) (10.0.1)\n",
      "Installing collected packages: pytesseract\n",
      "Successfully installed pytesseract-0.3.10\n"
     ]
    }
   ],
   "source": [
    "!pip install pytesseract"
   ]
  },
  {
   "cell_type": "code",
   "execution_count": 79,
   "id": "d88316f5",
   "metadata": {},
   "outputs": [
    {
     "name": "stdout",
     "output_type": "stream",
     "text": [
      "Texte original :\n",
      "Ceci est le texte à écrire: Digi-Hack 23\n",
      "Digi —Hack 23\n",
      "\n",
      "Le texte écrit par l'élève ne correspond pas au texte original.\n"
     ]
    }
   ],
   "source": [
    "import pytesseract\n",
    "from PIL import Image\n",
    "import subprocess\n",
    "\n",
    "pytesseract.pytesseract.tesseract_cmd = r'C:\\Users\\Honor\\AppData\\Local\\Programs\\Tesseract-OCR\\tesseract.exe'\n",
    "\n",
    "# Display the text on the screen\n",
    "original_text = \"Ceci est le texte à écrire: Digi-Hack 23\"\n",
    "print(\"Texte original :\")\n",
    "print(original_text)\n",
    "\n",
    "# Instruct the student to write the text on paper\n",
    "\n",
    "# Assuming the student scans and saves the image as \"scanned_text.png\"\n",
    "scanned_image_path = \"images/digi.jpg\"\n",
    "\n",
    "# Use OCR to extract text from the scanned image\n",
    "def extract_text_from_image(image_path):\n",
    "    try:\n",
    "        # Use pytesseract to perform OCR with the French language\n",
    "        extracted_text = pytesseract.image_to_string(Image.open(image_path))\n",
    "\n",
    "        return extracted_text\n",
    "    except Exception as e:\n",
    "        print(f\"Erreur lors de la reconnaissance optique de caractères : {e}\")\n",
    "        return None\n",
    "\n",
    "# Instruct the student to scan and save the written text as an image (e.g., scanned_text.png)\n",
    "\n",
    "# Extract text from the scanned image\n",
    "extracted_text = extract_text_from_image(scanned_image_path)\n",
    "print(extracted_text)\n",
    "\n",
    "\n",
    "# Compare the extracted text with the original text\n",
    "if extracted_text:\n",
    "    extracted_text = extracted_text.strip()  # Remove leading/trailing whitespace\n",
    "    if original_text.lower() == extracted_text.lower():\n",
    "        print(\"Le texte écrit par l'élève correspond au texte original.\")\n",
    "    else:\n",
    "        print(\"Le texte écrit par l'élève ne correspond pas au texte original.\")\n",
    "else:\n",
    "    print(\"L'extraction du texte à partir de l'image scannée a échoué.\")\n",
    "\n",
    "# You may need to adjust the paths and image format as per your specific use case.\n"
   ]
  },
  {
   "cell_type": "code",
   "execution_count": null,
   "id": "55cffc4e",
   "metadata": {},
   "outputs": [],
   "source": []
  }
 ],
 "metadata": {
  "kernelspec": {
   "display_name": "Python 3 (ipykernel)",
   "language": "python",
   "name": "python3"
  },
  "language_info": {
   "codemirror_mode": {
    "name": "ipython",
    "version": 3
   },
   "file_extension": ".py",
   "mimetype": "text/x-python",
   "name": "python",
   "nbconvert_exporter": "python",
   "pygments_lexer": "ipython3",
   "version": "3.9.13"
  }
 },
 "nbformat": 4,
 "nbformat_minor": 5
}
